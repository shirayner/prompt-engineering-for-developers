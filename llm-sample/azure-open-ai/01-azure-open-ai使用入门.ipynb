{
 "cells": [
  {
   "attachments": {},
   "cell_type": "markdown",
   "metadata": {},
   "source": [
    "# azure open ai 使用入门\n",
    "\n",
    "## 推荐阅读\n",
    "\n",
    "> - [Azure OpenAI 使用说明文档](https://learn.microsoft.com/en-us/azure/cognitive-services/openai/)\n",
    "\n",
    "## 基本概念\n",
    "\n",
    "- subscription：订阅，类似于一个租户的概念，目前只能开3个订阅\n",
    "- region：区域，资源部署的位置，目前只支持east us, south central us和west europe, 其中west europe没有gpt-35-turbo的模型\n",
    "- resource group: 资源组，每个订阅下可以设置多个资源组，目前openai的资源统一放在 AIGC的资源组中\n",
    "- resource：资源，一个openai服务就是一个资源，每个资源提供一个访问的endpoint\n",
    "- deployment / model: 模型，在每个资源内部，可以部署不同种类的openai模型，也可以进行fine-tune训练部署自己的模型。\n",
    "\n",
    "## 模型\n",
    "\n",
    "[Azure OpenAI 服务配额和限制](https://learn.microsoft.com/zh-cn/azure/cognitive-services/openai/quotas-limits)"
   ]
  },
  {
   "cell_type": "markdown",
   "metadata": {},
   "source": [
    "## 使用入门实例\n",
    "\n",
    "参考：[openai/openai-python](https://github.com/openai/openai-python)"
   ]
  },
  {
   "cell_type": "code",
   "execution_count": null,
   "metadata": {},
   "outputs": [],
   "source": [
    "# 下载依赖\n",
    "!pip install -q python-dotenv\n",
    "!pip install -q openai\n",
    "!pip install -q azure_identity"
   ]
  },
  {
   "cell_type": "code",
   "execution_count": null,
   "metadata": {},
   "outputs": [],
   "source": [
    "# 读取azure账号配置\n",
    "\n",
    "import os\n",
    "from dotenv import load_dotenv, find_dotenv\n",
    "\n",
    "# 加载.env 环境变量\n",
    "_ = load_dotenv(find_dotenv())\n",
    "\n",
    "# 读取系统中的环境变量\n",
    "client_id  = os.getenv('client_id')\n",
    "client_secret = os.getenv('client_secret')\n",
    "tenant_id = os.getenv('tenant_id')\n",
    "endpoint = os.getenv('endpoint')\n",
    "print(endpoint)"
   ]
  },
  {
   "cell_type": "code",
   "execution_count": null,
   "metadata": {},
   "outputs": [],
   "source": [
    "from azure.identity import ClientSecretCredential\n",
    " \n",
    "# ref: https://github.com/openai/openai-python\n",
    "sp_credential = ClientSecretCredential(\n",
    "    client_id=client_id,\n",
    "    client_secret=client_secret,\n",
    "    tenant_id=tenant_id)\n",
    "token = sp_credential.get_token(\"https://cognitiveservices.azure.com/.default\")\n",
    "print(token)"
   ]
  },
  {
   "cell_type": "code",
   "execution_count": null,
   "metadata": {},
   "outputs": [],
   "source": [
    "import openai\n",
    "\n",
    "# use aad token\n",
    "openai.api_type = \"azure_ad\"\n",
    "openai.api_key = token.token\n",
    "openai.api_base = endpoint\n",
    "openai.api_version = \"2023-03-15-preview\"\n",
    "\n",
    "# 一个封装 OpenAI 接口的函数，参数为 Prompt，返回对应结果\n",
    "def get_completion(prompt, model=\"gpt-3.5-turbo\"):\n",
    "    '''\n",
    "    prompt: 对应的提示\n",
    "    model: 调用的模型，默认为 gpt-3.5-turbo(ChatGPT)，有内测资格的用户可以选择 gpt-4\n",
    "    '''\n",
    "    # messages = [{\"role\":\"system\",\"content\":\"who are you?\"},{\"role\": \"user\", \"content\": prompt}]\n",
    "    messages = [{\"role\": \"user\", \"content\": prompt}]\n",
    "    response =  openai.ChatCompletion.create(\n",
    "      engine=model,\n",
    "      messages = messages,\n",
    "     temperature=0,\n",
    "      max_tokens=250,\n",
    "      top_p=1,\n",
    "      frequency_penalty=0,\n",
    "      presence_penalty=0,\n",
    "      stop=None\n",
    "    )\n",
    "    # 调用 OpenAI 的 ChatCompletion 接口\n",
    "    return response.choices[0].message[\"content\"]"
   ]
  },
  {
   "cell_type": "code",
   "execution_count": null,
   "metadata": {},
   "outputs": [],
   "source": [
    "prompt = f\"\"\" 你是谁\n",
    "\"\"\"\n",
    "# 指令内容，使用 ``` 来分隔指令和待总结的内容\n",
    "response = get_completion(prompt)\n",
    "print(response)"
   ]
  }
 ],
 "metadata": {
  "kernelspec": {
   "display_name": "Python 3.10.6 64-bit",
   "language": "python",
   "name": "python3"
  },
  "language_info": {
   "codemirror_mode": {
    "name": "ipython",
    "version": 3
   },
   "file_extension": ".py",
   "mimetype": "text/x-python",
   "name": "python",
   "nbconvert_exporter": "python",
   "pygments_lexer": "ipython3",
   "version": "3.10.6"
  },
  "vscode": {
   "interpreter": {
    "hash": "f2724d3c35557926dc82e085d76bd36beccc608fa538cb3b0d7de73eb29cfcb2"
   }
  }
 },
 "nbformat": 4,
 "nbformat_minor": 4
}
